{
 "cells": [
  {
   "cell_type": "code",
   "execution_count": null,
   "metadata": {},
   "outputs": [],
   "source": [
    "Idea by Jesse Steinweg-Woods"
   ]
  },
  {
   "cell_type": "markdown",
   "metadata": {},
   "source": [
    "# Scraping Indeed.com \n",
    "#### data science skills\n",
    "\n",
    "\n",
    "- We want to scrape the information from job advertisements for data scientists from indeed.com Let's scrape and find out! \n",
    "- What skills are in demand for data scientists?\n"
   ]
  },
  {
   "cell_type": "code",
   "execution_count": 36,
   "metadata": {},
   "outputs": [],
   "source": [
    "## all imports\n",
    "from IPython.display import HTML\n",
    "import numpy as np\n",
    "import urllib.request as urllib2\n",
    "import bs4 #this is beautiful soup\n",
    "import time\n",
    "import operator\n",
    "import socket\n",
    "import pickle\n",
    "import re # regular expressions\n",
    "\n",
    "from pandas import Series\n",
    "import pandas as pd\n",
    "from pandas import DataFrame\n",
    "\n",
    "import matplotlib\n",
    "import matplotlib.pyplot as plt\n",
    "%matplotlib inline\n",
    "\n",
    "# import seaborn as sns\n",
    "# sns.set_context(\"talk\")\n",
    "# sns.set_style(\"white\")\n",
    "\n",
    "# from secret import *\n"
   ]
  },
  {
   "cell_type": "code",
   "execution_count": 19,
   "metadata": {},
   "outputs": [],
   "source": [
    "# Fixed url for job postings containing data scientist\n",
    "url = 'http://www.indeed.com/jobs?q=data+scientist&l='\n",
    "# read the website\n",
    "source = urllib2.urlopen(url).read()\n",
    "# parse html code\n",
    "bs_tree = bs4.BeautifulSoup(source)\n",
    "\n",
    "\n"
   ]
  },
  {
   "cell_type": "code",
   "execution_count": 20,
   "metadata": {},
   "outputs": [
    {
     "name": "stdout",
     "output_type": "stream",
     "text": [
      "[1, 11064]\n",
      "Search yielded 11074 hits.\n"
     ]
    }
   ],
   "source": [
    "# see how many job postings we found\n",
    "job_count_string = bs_tree.find(id = 'searchCount').contents[0]\n",
    "\n",
    "\n",
    "job_count_string=job_count_string.split()\n",
    "job_count_string=[s.replace(',', '') for s in job_count_string ]\n",
    "\n",
    "\n",
    "# not that job_count so far is still a string, \n",
    "# not an integer, and the , separator prevents \n",
    "# us from just casting it to int\n",
    "\n",
    "job_count_digits = [int(d) for d in job_count_string if d.isdigit()]\n",
    "print(job_count_digits)\n",
    "job_count = np.sum([digit*(10**exponent) for digit, exponent in \n",
    "                    zip(job_count_digits[::-1], range(len(job_count_digits)))])\n",
    "\n",
    "print(\"Search yielded %s hits.\" % (job_count))"
   ]
  },
  {
   "cell_type": "markdown",
   "metadata": {},
   "source": [
    "## Page after page"
   ]
  },
  {
   "cell_type": "code",
   "execution_count": 40,
   "metadata": {},
   "outputs": [
    {
     "name": "stdout",
     "output_type": "stream",
     "text": [
      "remaining page num 2\n",
      "We found a lot of jobs:  20\n"
     ]
    }
   ],
   "source": [
    "# The website is only listing 10 results per page, \n",
    "# so we need to scrape them page after page\n",
    "num_pages = int(np.ceil(job_count/10.0))\n",
    "pages_where_to_stop=2;\n",
    "base_url = 'http://www.indeed.com'\n",
    "job_links = []\n",
    "for i in range(pages_where_to_stop): #do range(num_pages) if you want them all\n",
    "    \n",
    "    if i%10==0:\n",
    "        if i<10:\n",
    "            print(\"remaining page num\",pages_where_to_stop-i)\n",
    "        else:\n",
    "            print(\"remaining page num\", pages_where_to_stop-i)\n",
    "    url = 'http://www.indeed.com.au/jobs?q=data+scientist&start=' + str(i*10)\n",
    "    html_page = urllib2.urlopen(url).read() \n",
    "    bs_tree = bs4.BeautifulSoup(html_page)\n",
    "    \n",
    "        \n",
    "    job_link_area = bs_tree.find(id = 'resultsCol')\n",
    "   \n",
    "    \n",
    "    job_postings = job_link_area.findAll(\"div\")\n",
    "    job_posting=[jp for jp in job_postings if   jp.get('class')=='jobsearch-SerpJobCard unifiedRow row result clickcard']\n",
    "   \n",
    "    job_ids = [jp.get('data-jk') for jp in job_postings if jp.get('data-jk') is not None]\n",
    "\n",
    " \n",
    "    # go after each link\n",
    "    for id in job_ids:\n",
    "        job_links.append(base_url + '/rc/clk?jk=' + id)\n",
    "\n",
    "    time.sleep(1)\n",
    "    \n",
    "print(\"We found a lot of jobs: \", len(job_links))"
   ]
  },
  {
   "cell_type": "markdown",
   "metadata": {},
   "source": [
    "\n",
    "## Some precautions to enable us to restart our search"
   ]
  },
  {
   "cell_type": "code",
   "execution_count": 41,
   "metadata": {},
   "outputs": [],
   "source": [
    "# Save the scraped links\n",
    "with open('C:\\\\Users\\\\Seif\\\\OneDrive\\\\Documents\\\\cs209\\\\2015\\\\Lectures\\\\data\\\\scraped_links.pkl', 'wb') as f:\n",
    "    pickle.dump(job_links, f)\n",
    "    \n",
    "# Read canned scraped links\n",
    "with open('C:\\\\Users\\\\Seif\\\\OneDrive\\\\Documents\\\\cs209\\\\2015\\\\Lectures\\\\data\\\\scraped_links.pkl', 'rb') as f:\n",
    "    job_links = pickle.load(f)\n",
    "        "
   ]
  },
  {
   "cell_type": "markdown",
   "metadata": {},
   "source": [
    "### Looking for skill set map reduce and Spark in job_links"
   ]
  },
  {
   "cell_type": "code",
   "execution_count": 10,
   "metadata": {},
   "outputs": [],
   "source": [
    "skill_set = {'mapreduce': 0, 'spark': 0}\n",
    "\n",
    "# write initialization into a file, so we can restart later\n",
    "with open('C:\\\\Users\\\\Seif\\\\OneDrive\\\\Documents\\\\cs209\\\\2015\\\\Lectures\\\\data\\\\scraped_links_restart.pkl', 'wb') as f:\n",
    "   pickle.dump((skill_set, 0),f)    \n",
    "\n"
   ]
  },
  {
   "cell_type": "markdown",
   "metadata": {},
   "source": [
    "This code below does the trick, but could be optimized for speed if necessary\n",
    "e.g. skills are typically listed at the end of the webpage\n",
    "might not need to split/join the whole webpage, as we already know\n",
    "which words we are looking for \n",
    "and could stop after the first occurance of each word\n"
   ]
  },
  {
   "cell_type": "code",
   "execution_count": 51,
   "metadata": {},
   "outputs": [
    {
     "name": "stdout",
     "output_type": "stream",
     "text": [
      "{'mapreduce': 0, 'spark': 0} 0\n",
      "How many websites still to go?  20\n"
     ]
    }
   ],
   "source": [
    "\n",
    "with open('C:\\\\Users\\\\Seif\\\\OneDrive\\\\Documents\\\\cs209\\\\2015\\\\Lectures\\\\data\\\\scraped_links_restart.pkl', 'rb') as f:\n",
    "    skill_set, index = pickle.load(f)\n",
    "    print(skill_set,index)\n",
    "    print(\"How many websites still to go? \", len(job_links) - index)"
   ]
  },
  {
   "cell_type": "code",
   "execution_count": 46,
   "metadata": {},
   "outputs": [
    {
     "name": "stdout",
     "output_type": "stream",
     "text": [
      "http://www.indeed.com/rc/clk?jk=9627034d8cd27792\n",
      "http://www.indeed.com/rc/clk?jk=1a622fdca8324636\n",
      "http://www.indeed.com/rc/clk?jk=43cbd0278042f1a9\n",
      "http://www.indeed.com/rc/clk?jk=90d9ce0ec817ce5d\n",
      "http://www.indeed.com/rc/clk?jk=f4a9d97c8c38a1bd\n",
      "15\n",
      "{'mapreduce': 0, 'spark': 0}\n",
      "http://www.indeed.com/rc/clk?jk=6cafcb785bf65e38\n",
      "http://www.indeed.com/rc/clk?jk=393d33212c837508\n",
      "HTTPError:\n",
      "http://www.indeed.com/rc/clk?jk=88e81abcc346e95d\n",
      "http://www.indeed.com/rc/clk?jk=dfc0cfbf1931b500\n",
      "http://www.indeed.com/rc/clk?jk=dd7b858f3353173f\n",
      "10\n",
      "{'mapreduce': 0, 'spark': 1}\n",
      "http://www.indeed.com/rc/clk?jk=105e3b6bfc20affd\n",
      "http://www.indeed.com/rc/clk?jk=6c02bb6797a35086\n",
      "http://www.indeed.com/rc/clk?jk=75dc4303c7b87e54\n",
      "http://www.indeed.com/rc/clk?jk=ff1e67cce888db12\n",
      "http://www.indeed.com/rc/clk?jk=b05e817b8ae5cd9b\n",
      "5\n",
      "{'mapreduce': 1, 'spark': 3}\n",
      "http://www.indeed.com/rc/clk?jk=2e2f62c635384bc7\n",
      "http://www.indeed.com/rc/clk?jk=70b15d3a545c78db\n",
      "http://www.indeed.com/rc/clk?jk=5c172b03ffbfed14\n",
      "http://www.indeed.com/rc/clk?jk=d7129f312b301b2e\n",
      "http://www.indeed.com/rc/clk?jk=74e3caaf3a793916\n",
      "0\n",
      "{'mapreduce': 1, 'spark': 3}\n"
     ]
    }
   ],
   "source": [
    "counter = 0\n",
    "\n",
    "for link in job_links[index:]:\n",
    "    print(link)\n",
    "    counter +=1  \n",
    "    \n",
    "    try:\n",
    "        html_page = urllib2.urlopen(link).read()\n",
    "    except urllib2.HTTPError:\n",
    "        print(\"HTTPError:\")\n",
    "        continue\n",
    "    except urllib2.URLError:\n",
    "        print( \"URLError:\")\n",
    "        continue\n",
    "    except socket.error as error:\n",
    "        print( \"Connection closed\")\n",
    "        continue\n",
    "\n",
    "    html_text = re.sub(\"[^a-z.+3]\",\" \", html_page.lower().decode('utf-8')) # replace all but the listed characters\n",
    "        \n",
    "    for key in skill_set.keys():\n",
    "        if key in html_text:  \n",
    "            skill_set[key] +=1\n",
    "            \n",
    "    if counter % 5 == 0:\n",
    "        print (len(job_links) - counter - index)\n",
    "        print (skill_set)\n",
    "        with open('scraped_links_restart.pkl','wb') as f:\n",
    "            pickle.dump((skill_set, index+counter),f)"
   ]
  },
  {
   "cell_type": "code",
   "execution_count": 48,
   "metadata": {
    "scrolled": true
   },
   "outputs": [
    {
     "name": "stdout",
     "output_type": "stream",
     "text": [
      "{'mapreduce': 1, 'spark': 3}\n"
     ]
    }
   ],
   "source": [
    "print (skill_set)"
   ]
  },
  {
   "cell_type": "markdown",
   "metadata": {},
   "source": [
    "\n",
    "# Scraping data science skills results\n"
   ]
  },
  {
   "cell_type": "code",
   "execution_count": 47,
   "metadata": {},
   "outputs": [
    {
     "data": {
      "image/png": "[encoded data removed]",
      "text/plain": [
       "<Figure size 432x288 with 1 Axes>"
      ]
     },
     "metadata": {
      "needs_background": "light"
     },
     "output_type": "display_data"
    }
   ],
   "source": [
    "pseries = pd.Series(skill_set)\n",
    "pseries.sort_values(ascending=False)\n",
    "\n",
    "pseries.plot(kind = 'bar')\n",
    "## set the title to Score Comparison\n",
    "plt.title('Data Science Skills')\n",
    "## set the x label\n",
    "plt.xlabel('Skills')\n",
    "## set the y label\n",
    "plt.ylabel('Count')\n",
    "## show the plot\n",
    "plt.show()"
   ]
  }
 ],
 "metadata": {
  "kernelspec": {
   "display_name": "Python 3",
   "language": "python",
   "name": "python3"
  },
  "language_info": {
   "codemirror_mode": {
    "name": "ipython",
    "version": 3
   },
   "file_extension": ".py",
   "mimetype": "text/x-python",
   "name": "python",
   "nbconvert_exporter": "python",
   "pygments_lexer": "ipython3",
   "version": "3.6.8"
  }
 },
 "nbformat": 4,
 "nbformat_minor": 2
}
